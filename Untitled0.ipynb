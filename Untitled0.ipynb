{
  "nbformat": 4,
  "nbformat_minor": 0,
  "metadata": {
    "colab": {
      "provenance": []
    },
    "kernelspec": {
      "name": "python3",
      "display_name": "Python 3"
    },
    "language_info": {
      "name": "python"
    }
  },
  "cells": [
    {
      "cell_type": "markdown",
      "source": [
        "# Function"
      ],
      "metadata": {
        "id": "QL6aU9gC5UJa"
      }
    },
    {
      "cell_type": "markdown",
      "source": [
        "1. Question Number 1\n",
        "   - Answer"
      ],
      "metadata": {
        "id": "5Q7i7D2y5b0-"
      }
    },
    {
      "cell_type": "markdown",
      "source": [
        "2. Question Number 2\n",
        "   - Answer\n",
        "3. Question Number 3\n",
        "   - Answer"
      ],
      "metadata": {
        "id": "OwYSfCtx5l6e"
      }
    },
    {
      "cell_type": "code",
      "execution_count": null,
      "metadata": {
        "id": "dR9LS8Rg5GEl"
      },
      "outputs": [],
      "source": []
    }
  ]
}